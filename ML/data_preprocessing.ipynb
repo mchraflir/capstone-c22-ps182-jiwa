{
 "cells": [
  {
   "cell_type": "code",
   "execution_count": 1,
   "id": "31a7a63c-14e0-49a9-95a4-e841bc10dabc",
   "metadata": {
    "pycharm": {
     "name": "#%%\n"
    }
   },
   "outputs": [
    {
     "ename": "ModuleNotFoundError",
     "evalue": "No module named 'pandas'",
     "output_type": "error",
     "traceback": [
      "\u001b[0;31m---------------------------------------------------------------------------\u001b[0m",
      "\u001b[0;31mModuleNotFoundError\u001b[0m                       Traceback (most recent call last)",
      "\u001b[1;32m/Users/mhanifprasetyo/Desktop/Capstone/data_preprocessing.ipynb Cell 1'\u001b[0m in \u001b[0;36m<cell line: 2>\u001b[0;34m()\u001b[0m\n\u001b[1;32m      <a href='vscode-notebook-cell:/Users/mhanifprasetyo/Desktop/Capstone/data_preprocessing.ipynb#ch0000000?line=0'>1</a>\u001b[0m \u001b[39m# importing pandas as pd\u001b[39;00m\n\u001b[0;32m----> <a href='vscode-notebook-cell:/Users/mhanifprasetyo/Desktop/Capstone/data_preprocessing.ipynb#ch0000000?line=1'>2</a>\u001b[0m \u001b[39mimport\u001b[39;00m \u001b[39mpandas\u001b[39;00m \u001b[39mas\u001b[39;00m \u001b[39mpd\u001b[39;00m\n\u001b[1;32m      <a href='vscode-notebook-cell:/Users/mhanifprasetyo/Desktop/Capstone/data_preprocessing.ipynb#ch0000000?line=2'>3</a>\u001b[0m \u001b[39mimport\u001b[39;00m \u001b[39mneattext\u001b[39;00m \u001b[39mas\u001b[39;00m \u001b[39mnt\u001b[39;00m\n",
      "\u001b[0;31mModuleNotFoundError\u001b[0m: No module named 'pandas'"
     ]
    }
   ],
   "source": [
    "# importing pandas as pd\n",
    "import pandas as pd\n",
    "import neattext as nt"
   ]
  },
  {
   "cell_type": "code",
   "execution_count": 7,
   "metadata": {
    "collapsed": false,
    "pycharm": {
     "name": "#%%\n"
    }
   },
   "outputs": [],
   "source": [
    "# Read the excel file and construct the\n",
    "# dataframe\n",
    "df = pd.read_excel('Suicide_DetectionTranslate.xlsx')"
   ]
  },
  {
   "cell_type": "code",
   "execution_count": 8,
   "id": "9e1bc4ae-8dc9-432b-bf65-1430ee213bc3",
   "metadata": {
    "pycharm": {
     "name": "#%%\n"
    }
   },
   "outputs": [
    {
     "data": {
      "text/html": [
       "<div>\n",
       "<style scoped>\n",
       "    .dataframe tbody tr th:only-of-type {\n",
       "        vertical-align: middle;\n",
       "    }\n",
       "\n",
       "    .dataframe tbody tr th {\n",
       "        vertical-align: top;\n",
       "    }\n",
       "\n",
       "    .dataframe thead th {\n",
       "        text-align: right;\n",
       "    }\n",
       "</style>\n",
       "<table border=\"1\" class=\"dataframe\">\n",
       "  <thead>\n",
       "    <tr style=\"text-align: right;\">\n",
       "      <th></th>\n",
       "      <th>Suicide_Detection</th>\n",
       "      <th>text</th>\n",
       "      <th>class</th>\n",
       "    </tr>\n",
       "  </thead>\n",
       "  <tbody>\n",
       "    <tr>\n",
       "      <th>0</th>\n",
       "      <td>2</td>\n",
       "      <td>Ex Wife Threatening Suicide Recently I left my...</td>\n",
       "      <td>suicide</td>\n",
       "    </tr>\n",
       "    <tr>\n",
       "      <th>1</th>\n",
       "      <td>3</td>\n",
       "      <td>Am I weird I don't get affected by compliments...</td>\n",
       "      <td>non-suicide</td>\n",
       "    </tr>\n",
       "    <tr>\n",
       "      <th>2</th>\n",
       "      <td>4</td>\n",
       "      <td>Finally 2020 is almost over... So I can never ...</td>\n",
       "      <td>non-suicide</td>\n",
       "    </tr>\n",
       "    <tr>\n",
       "      <th>3</th>\n",
       "      <td>8</td>\n",
       "      <td>i need helpjust help me im crying so hard</td>\n",
       "      <td>suicide</td>\n",
       "    </tr>\n",
       "    <tr>\n",
       "      <th>4</th>\n",
       "      <td>9</td>\n",
       "      <td>I'm so lostHello, my name is Adam (16) and I'v...</td>\n",
       "      <td>suicide</td>\n",
       "    </tr>\n",
       "  </tbody>\n",
       "</table>\n",
       "</div>"
      ],
      "text/plain": [
       "  Suicide_Detection                                               text  \\\n",
       "0                 2  Ex Wife Threatening Suicide Recently I left my...   \n",
       "1                 3  Am I weird I don't get affected by compliments...   \n",
       "2                 4  Finally 2020 is almost over... So I can never ...   \n",
       "3                 8          i need helpjust help me im crying so hard   \n",
       "4                 9  I'm so lostHello, my name is Adam (16) and I'v...   \n",
       "\n",
       "         class  \n",
       "0      suicide  \n",
       "1  non-suicide  \n",
       "2  non-suicide  \n",
       "3      suicide  \n",
       "4      suicide  "
      ]
     },
     "execution_count": 8,
     "metadata": {},
     "output_type": "execute_result"
    }
   ],
   "source": [
    "df.head()"
   ]
  },
  {
   "cell_type": "code",
   "execution_count": 9,
   "id": "1ef3a0e7-3432-4909-98e9-4329d2365511",
   "metadata": {
    "pycharm": {
     "name": "#%%\n"
    }
   },
   "outputs": [
    {
     "data": {
      "text/plain": [
       "(67722, 3)"
      ]
     },
     "execution_count": 9,
     "metadata": {},
     "output_type": "execute_result"
    }
   ],
   "source": [
    "df.shape"
   ]
  },
  {
   "cell_type": "code",
   "execution_count": 20,
   "metadata": {
    "collapsed": false,
    "pycharm": {
     "name": "#%%\n"
    }
   },
   "outputs": [],
   "source": [
    "# df_1 = df[:int(len(df)/4)]\n",
    "# df_2 = df[int(len(df)/4):int(len(df)/2)]\n",
    "# df_3 = df[int(len(df)/2):int(len(df)/(4/3))]\n",
    "# df_4 = df[int(len(df)/(4/3)):int(len(df))]"
   ]
  },
  {
   "cell_type": "code",
   "execution_count": 25,
   "metadata": {
    "collapsed": false,
    "pycharm": {
     "name": "#%%\n"
    }
   },
   "outputs": [],
   "source": [
    "df= df.reset_index()\n",
    "# df_2 = df_2.reset_index()\n",
    "# df_3 = df_3.reset_index()\n",
    "# df_4 = df_4.reset_index()"
   ]
  },
  {
   "cell_type": "code",
   "execution_count": 26,
   "metadata": {
    "collapsed": false,
    "pycharm": {
     "name": "#%%\n"
    }
   },
   "outputs": [
    {
     "data": {
      "text/html": [
       "<div>\n",
       "<style scoped>\n",
       "    .dataframe tbody tr th:only-of-type {\n",
       "        vertical-align: middle;\n",
       "    }\n",
       "\n",
       "    .dataframe tbody tr th {\n",
       "        vertical-align: top;\n",
       "    }\n",
       "\n",
       "    .dataframe thead th {\n",
       "        text-align: right;\n",
       "    }\n",
       "</style>\n",
       "<table border=\"1\" class=\"dataframe\">\n",
       "  <thead>\n",
       "    <tr style=\"text-align: right;\">\n",
       "      <th></th>\n",
       "      <th>index</th>\n",
       "      <th>Suicide_Detection</th>\n",
       "      <th>text</th>\n",
       "      <th>class</th>\n",
       "    </tr>\n",
       "  </thead>\n",
       "  <tbody>\n",
       "    <tr>\n",
       "      <th>0</th>\n",
       "      <td>0</td>\n",
       "      <td>2</td>\n",
       "      <td>ex wife threatening suicide recently left wife...</td>\n",
       "      <td>suicide</td>\n",
       "    </tr>\n",
       "    <tr>\n",
       "      <th>1</th>\n",
       "      <td>1</td>\n",
       "      <td>3</td>\n",
       "      <td>weird dont affected compliments coming know ir...</td>\n",
       "      <td>non-suicide</td>\n",
       "    </tr>\n",
       "    <tr>\n",
       "      <th>2</th>\n",
       "      <td>2</td>\n",
       "      <td>4</td>\n",
       "      <td>finally 2020 hear 2020 bad year swear fucking ...</td>\n",
       "      <td>non-suicide</td>\n",
       "    </tr>\n",
       "    <tr>\n",
       "      <th>3</th>\n",
       "      <td>3</td>\n",
       "      <td>8</td>\n",
       "      <td>need helpjust help im crying hard</td>\n",
       "      <td>suicide</td>\n",
       "    </tr>\n",
       "    <tr>\n",
       "      <th>4</th>\n",
       "      <td>4</td>\n",
       "      <td>9</td>\n",
       "      <td>im losthello adam 16 ive struggling years im a...</td>\n",
       "      <td>suicide</td>\n",
       "    </tr>\n",
       "    <tr>\n",
       "      <th>...</th>\n",
       "      <td>...</td>\n",
       "      <td>...</td>\n",
       "      <td>...</td>\n",
       "      <td>...</td>\n",
       "    </tr>\n",
       "    <tr>\n",
       "      <th>67717</th>\n",
       "      <td>67717</td>\n",
       "      <td>99994</td>\n",
       "      <td>Soft.Do you even just feel a gentle suicidal? ...</td>\n",
       "      <td>suicide</td>\n",
       "    </tr>\n",
       "    <tr>\n",
       "      <th>67718</th>\n",
       "      <td>67718</td>\n",
       "      <td>99996</td>\n",
       "      <td>I pushed my ex to admit that he was suicidal, ...</td>\n",
       "      <td>suicide</td>\n",
       "    </tr>\n",
       "    <tr>\n",
       "      <th>67719</th>\n",
       "      <td>67719</td>\n",
       "      <td>99997</td>\n",
       "      <td>Most painless way to kill myself without affec...</td>\n",
       "      <td>suicide</td>\n",
       "    </tr>\n",
       "    <tr>\n",
       "      <th>67720</th>\n",
       "      <td>67720</td>\n",
       "      <td>99998</td>\n",
       "      <td>Life is meaningless when ur isolatedbecause of...</td>\n",
       "      <td>suicide</td>\n",
       "    </tr>\n",
       "    <tr>\n",
       "      <th>67721</th>\n",
       "      <td>67721</td>\n",
       "      <td>99999</td>\n",
       "      <td>I actually tried it again.But this time I call...</td>\n",
       "      <td>suicide</td>\n",
       "    </tr>\n",
       "  </tbody>\n",
       "</table>\n",
       "<p>67722 rows × 4 columns</p>\n",
       "</div>"
      ],
      "text/plain": [
       "       index Suicide_Detection  \\\n",
       "0          0                 2   \n",
       "1          1                 3   \n",
       "2          2                 4   \n",
       "3          3                 8   \n",
       "4          4                 9   \n",
       "...      ...               ...   \n",
       "67717  67717             99994   \n",
       "67718  67718             99996   \n",
       "67719  67719             99997   \n",
       "67720  67720             99998   \n",
       "67721  67721             99999   \n",
       "\n",
       "                                                    text        class  \n",
       "0      ex wife threatening suicide recently left wife...      suicide  \n",
       "1      weird dont affected compliments coming know ir...  non-suicide  \n",
       "2      finally 2020 hear 2020 bad year swear fucking ...  non-suicide  \n",
       "3                      need helpjust help im crying hard      suicide  \n",
       "4      im losthello adam 16 ive struggling years im a...      suicide  \n",
       "...                                                  ...          ...  \n",
       "67717  Soft.Do you even just feel a gentle suicidal? ...      suicide  \n",
       "67718  I pushed my ex to admit that he was suicidal, ...      suicide  \n",
       "67719  Most painless way to kill myself without affec...      suicide  \n",
       "67720  Life is meaningless when ur isolatedbecause of...      suicide  \n",
       "67721  I actually tried it again.But this time I call...      suicide  \n",
       "\n",
       "[67722 rows x 4 columns]"
      ]
     },
     "execution_count": 26,
     "metadata": {},
     "output_type": "execute_result"
    }
   ],
   "source": [
    "df"
   ]
  },
  {
   "cell_type": "code",
   "execution_count": 28,
   "metadata": {
    "collapsed": false,
    "pycharm": {
     "name": "#%%\n"
    }
   },
   "outputs": [],
   "source": [
    "def preprocessing(data):\n",
    "    for index in range(int(data['text'].count())):\n",
    "        data['text'][index] = str(data['text'][index]).lower()\n",
    "        data['text'][index] = nt.functions.clean_text(data['text'][index], puncts=True, urls=True, emails=True, special_char=True)\n",
    "        if len(data['text'][index]) < 5000:\n",
    "            data = data\n",
    "        else:\n",
    "            data = data.drop(labels=index, axis=0)\n",
    "    data = data.reset_index()\n",
    "    return data"
   ]
  },
  {
   "cell_type": "code",
   "execution_count": 29,
   "id": "05584a7c-f94d-46c4-b6fa-637471e24423",
   "metadata": {
    "pycharm": {
     "name": "#%%\n"
    }
   },
   "outputs": [
    {
     "name": "stderr",
     "output_type": "stream",
     "text": [
      "C:\\Users\\RAFLIR~1\\AppData\\Local\\Temp/ipykernel_12632/1677116299.py:3: SettingWithCopyWarning: \n",
      "A value is trying to be set on a copy of a slice from a DataFrame\n",
      "\n",
      "See the caveats in the documentation: https://pandas.pydata.org/pandas-docs/stable/user_guide/indexing.html#returning-a-view-versus-a-copy\n",
      "  data['text'][index] = str(data['text'][index]).lower()\n",
      "C:\\Users\\RAFLIR~1\\AppData\\Local\\Temp/ipykernel_12632/1677116299.py:4: SettingWithCopyWarning: \n",
      "A value is trying to be set on a copy of a slice from a DataFrame\n",
      "\n",
      "See the caveats in the documentation: https://pandas.pydata.org/pandas-docs/stable/user_guide/indexing.html#returning-a-view-versus-a-copy\n",
      "  data['text'][index] = nt.functions.clean_text(data['text'][index], puncts=True, urls=True, emails=True, special_char=True)\n"
     ]
    },
    {
     "data": {
      "text/html": [
       "<div>\n",
       "<style scoped>\n",
       "    .dataframe tbody tr th:only-of-type {\n",
       "        vertical-align: middle;\n",
       "    }\n",
       "\n",
       "    .dataframe tbody tr th {\n",
       "        vertical-align: top;\n",
       "    }\n",
       "\n",
       "    .dataframe thead th {\n",
       "        text-align: right;\n",
       "    }\n",
       "</style>\n",
       "<table border=\"1\" class=\"dataframe\">\n",
       "  <thead>\n",
       "    <tr style=\"text-align: right;\">\n",
       "      <th></th>\n",
       "      <th>level_0</th>\n",
       "      <th>index</th>\n",
       "      <th>Suicide_Detection</th>\n",
       "      <th>text</th>\n",
       "      <th>class</th>\n",
       "    </tr>\n",
       "  </thead>\n",
       "  <tbody>\n",
       "    <tr>\n",
       "      <th>0</th>\n",
       "      <td>0</td>\n",
       "      <td>0</td>\n",
       "      <td>2</td>\n",
       "      <td>ex wife threatening suicide recently left wife...</td>\n",
       "      <td>suicide</td>\n",
       "    </tr>\n",
       "    <tr>\n",
       "      <th>1</th>\n",
       "      <td>1</td>\n",
       "      <td>1</td>\n",
       "      <td>3</td>\n",
       "      <td>weird dont affected compliments coming know ir...</td>\n",
       "      <td>non-suicide</td>\n",
       "    </tr>\n",
       "    <tr>\n",
       "      <th>2</th>\n",
       "      <td>2</td>\n",
       "      <td>2</td>\n",
       "      <td>4</td>\n",
       "      <td>finally 2020 hear 2020 bad year swear fucking ...</td>\n",
       "      <td>non-suicide</td>\n",
       "    </tr>\n",
       "    <tr>\n",
       "      <th>3</th>\n",
       "      <td>3</td>\n",
       "      <td>3</td>\n",
       "      <td>8</td>\n",
       "      <td>need helpjust help im crying hard</td>\n",
       "      <td>suicide</td>\n",
       "    </tr>\n",
       "    <tr>\n",
       "      <th>4</th>\n",
       "      <td>4</td>\n",
       "      <td>4</td>\n",
       "      <td>9</td>\n",
       "      <td>im losthello adam 16 ive struggling years im a...</td>\n",
       "      <td>suicide</td>\n",
       "    </tr>\n",
       "    <tr>\n",
       "      <th>...</th>\n",
       "      <td>...</td>\n",
       "      <td>...</td>\n",
       "      <td>...</td>\n",
       "      <td>...</td>\n",
       "      <td>...</td>\n",
       "    </tr>\n",
       "    <tr>\n",
       "      <th>67606</th>\n",
       "      <td>67717</td>\n",
       "      <td>67717</td>\n",
       "      <td>99994</td>\n",
       "      <td>Soft.Do you even just feel a gentle suicidal? ...</td>\n",
       "      <td>suicide</td>\n",
       "    </tr>\n",
       "    <tr>\n",
       "      <th>67607</th>\n",
       "      <td>67718</td>\n",
       "      <td>67718</td>\n",
       "      <td>99996</td>\n",
       "      <td>I pushed my ex to admit that he was suicidal, ...</td>\n",
       "      <td>suicide</td>\n",
       "    </tr>\n",
       "    <tr>\n",
       "      <th>67608</th>\n",
       "      <td>67719</td>\n",
       "      <td>67719</td>\n",
       "      <td>99997</td>\n",
       "      <td>Most painless way to kill myself without affec...</td>\n",
       "      <td>suicide</td>\n",
       "    </tr>\n",
       "    <tr>\n",
       "      <th>67609</th>\n",
       "      <td>67720</td>\n",
       "      <td>67720</td>\n",
       "      <td>99998</td>\n",
       "      <td>Life is meaningless when ur isolatedbecause of...</td>\n",
       "      <td>suicide</td>\n",
       "    </tr>\n",
       "    <tr>\n",
       "      <th>67610</th>\n",
       "      <td>67721</td>\n",
       "      <td>67721</td>\n",
       "      <td>99999</td>\n",
       "      <td>I actually tried it again.But this time I call...</td>\n",
       "      <td>suicide</td>\n",
       "    </tr>\n",
       "  </tbody>\n",
       "</table>\n",
       "<p>67611 rows × 5 columns</p>\n",
       "</div>"
      ],
      "text/plain": [
       "       level_0  index Suicide_Detection  \\\n",
       "0            0      0                 2   \n",
       "1            1      1                 3   \n",
       "2            2      2                 4   \n",
       "3            3      3                 8   \n",
       "4            4      4                 9   \n",
       "...        ...    ...               ...   \n",
       "67606    67717  67717             99994   \n",
       "67607    67718  67718             99996   \n",
       "67608    67719  67719             99997   \n",
       "67609    67720  67720             99998   \n",
       "67610    67721  67721             99999   \n",
       "\n",
       "                                                    text        class  \n",
       "0      ex wife threatening suicide recently left wife...      suicide  \n",
       "1      weird dont affected compliments coming know ir...  non-suicide  \n",
       "2      finally 2020 hear 2020 bad year swear fucking ...  non-suicide  \n",
       "3                      need helpjust help im crying hard      suicide  \n",
       "4      im losthello adam 16 ive struggling years im a...      suicide  \n",
       "...                                                  ...          ...  \n",
       "67606  Soft.Do you even just feel a gentle suicidal? ...      suicide  \n",
       "67607  I pushed my ex to admit that he was suicidal, ...      suicide  \n",
       "67608  Most painless way to kill myself without affec...      suicide  \n",
       "67609  Life is meaningless when ur isolatedbecause of...      suicide  \n",
       "67610  I actually tried it again.But this time I call...      suicide  \n",
       "\n",
       "[67611 rows x 5 columns]"
      ]
     },
     "execution_count": 29,
     "metadata": {},
     "output_type": "execute_result"
    }
   ],
   "source": [
    "df = preprocessing(df)\n",
    "df"
   ]
  },
  {
   "cell_type": "code",
   "execution_count": 37,
   "metadata": {
    "collapsed": false,
    "pycharm": {
     "name": "#%%\n"
    }
   },
   "outputs": [
    {
     "data": {
      "text/plain": [
       "non-suicide    33354\n",
       "suicide        33211\n",
       "Name: class, dtype: int64"
      ]
     },
     "execution_count": 37,
     "metadata": {},
     "output_type": "execute_result"
    }
   ],
   "source": [
    "df['class'].value_counts()"
   ]
  },
  {
   "cell_type": "code",
   "execution_count": null,
   "metadata": {
    "collapsed": false,
    "pycharm": {
     "name": "#%%\n"
    }
   },
   "outputs": [],
   "source": [
    "# from googletrans import Translator\n",
    "#\n",
    "# translator = Translator()"
   ]
  },
  {
   "cell_type": "code",
   "execution_count": null,
   "metadata": {
    "collapsed": false,
    "pycharm": {
     "name": "#%%\n"
    }
   },
   "outputs": [],
   "source": [
    "# for i in range(int(df['text'].count())):\n",
    "#         translated_text = translator.translate(df['text'][i], src='en', dest='id')\n",
    "#         df['text'][i] = translated_text.text"
   ]
  },
  {
   "cell_type": "code",
   "execution_count": 38,
   "metadata": {
    "collapsed": false,
    "pycharm": {
     "name": "#%%\n"
    }
   },
   "outputs": [],
   "source": [
    "from deep_translator import GoogleTranslator"
   ]
  },
  {
   "cell_type": "code",
   "execution_count": 39,
   "metadata": {
    "collapsed": false,
    "pycharm": {
     "name": "#%%\n"
    }
   },
   "outputs": [
    {
     "name": "stderr",
     "output_type": "stream",
     "text": [
      "C:\\Users\\RAFLIR~1\\AppData\\Local\\Temp/ipykernel_12632/3210862923.py:3: SettingWithCopyWarning: \n",
      "A value is trying to be set on a copy of a slice from a DataFrame\n",
      "\n",
      "See the caveats in the documentation: https://pandas.pydata.org/pandas-docs/stable/user_guide/indexing.html#returning-a-view-versus-a-copy\n",
      "  df['text'][i] = translated\n"
     ]
    },
    {
     "ename": "TranslationNotFound",
     "evalue": "help end thisi checked wife behavioural health ward local hospital begged drive old home california kill wanted hold shot didnt want die scared told refusing actively making life worse got agree treatment treatment facility wasnt nice said theyve taken away allow hour visitng time day personal belongings sensodyne toothpaste needs teeth sensitive types hurt allow news day room arent cooperating allowing phone dad hospice als maintained use hand longer talk texts frequently cant wont let phone hes got long leftim managing depression ptsd whispered help phone hung im freaked actively feel guilty like want self harm --> No translation was found using the current translator. Try another translator?",
     "output_type": "error",
     "traceback": [
      "\u001b[1;31m---------------------------------------------------------------------------\u001b[0m",
      "\u001b[1;31mTranslationNotFound\u001b[0m                       Traceback (most recent call last)",
      "\u001b[1;32mC:\\Users\\RAFLIR~1\\AppData\\Local\\Temp/ipykernel_12632/3210862923.py\u001b[0m in \u001b[0;36m<module>\u001b[1;34m\u001b[0m\n\u001b[0;32m      1\u001b[0m \u001b[1;32mfor\u001b[0m \u001b[0mi\u001b[0m \u001b[1;32min\u001b[0m \u001b[0mrange\u001b[0m\u001b[1;33m(\u001b[0m\u001b[0mint\u001b[0m\u001b[1;33m(\u001b[0m\u001b[0mdf\u001b[0m\u001b[1;33m[\u001b[0m\u001b[1;34m'text'\u001b[0m\u001b[1;33m]\u001b[0m\u001b[1;33m.\u001b[0m\u001b[0mcount\u001b[0m\u001b[1;33m(\u001b[0m\u001b[1;33m)\u001b[0m\u001b[1;33m)\u001b[0m\u001b[1;33m)\u001b[0m\u001b[1;33m:\u001b[0m\u001b[1;33m\u001b[0m\u001b[1;33m\u001b[0m\u001b[0m\n\u001b[1;32m----> 2\u001b[1;33m     \u001b[0mtranslated\u001b[0m \u001b[1;33m=\u001b[0m \u001b[0mGoogleTranslator\u001b[0m\u001b[1;33m(\u001b[0m\u001b[0msource\u001b[0m\u001b[1;33m=\u001b[0m\u001b[1;34m'en'\u001b[0m\u001b[1;33m,\u001b[0m \u001b[0mtarget\u001b[0m\u001b[1;33m=\u001b[0m\u001b[1;34m'id'\u001b[0m\u001b[1;33m)\u001b[0m\u001b[1;33m.\u001b[0m\u001b[0mtranslate\u001b[0m\u001b[1;33m(\u001b[0m\u001b[0mdf\u001b[0m\u001b[1;33m[\u001b[0m\u001b[1;34m'text'\u001b[0m\u001b[1;33m]\u001b[0m\u001b[1;33m[\u001b[0m\u001b[0mi\u001b[0m\u001b[1;33m]\u001b[0m\u001b[1;33m)\u001b[0m\u001b[1;33m\u001b[0m\u001b[1;33m\u001b[0m\u001b[0m\n\u001b[0m\u001b[0;32m      3\u001b[0m     \u001b[0mdf\u001b[0m\u001b[1;33m[\u001b[0m\u001b[1;34m'text'\u001b[0m\u001b[1;33m]\u001b[0m\u001b[1;33m[\u001b[0m\u001b[0mi\u001b[0m\u001b[1;33m]\u001b[0m \u001b[1;33m=\u001b[0m \u001b[0mtranslated\u001b[0m\u001b[1;33m\u001b[0m\u001b[1;33m\u001b[0m\u001b[0m\n",
      "\u001b[1;32m~\\AppData\\Local\\Programs\\Python\\Python39\\lib\\site-packages\\deep_translator\\google.py\u001b[0m in \u001b[0;36mtranslate\u001b[1;34m(self, text, **kwargs)\u001b[0m\n\u001b[0;32m     79\u001b[0m                 \u001b[0melement\u001b[0m \u001b[1;33m=\u001b[0m \u001b[0msoup\u001b[0m\u001b[1;33m.\u001b[0m\u001b[0mfind\u001b[0m\u001b[1;33m(\u001b[0m\u001b[0mself\u001b[0m\u001b[1;33m.\u001b[0m\u001b[0m_element_tag\u001b[0m\u001b[1;33m,\u001b[0m \u001b[0mself\u001b[0m\u001b[1;33m.\u001b[0m\u001b[0m_alt_element_query\u001b[0m\u001b[1;33m)\u001b[0m\u001b[1;33m\u001b[0m\u001b[1;33m\u001b[0m\u001b[0m\n\u001b[0;32m     80\u001b[0m                 \u001b[1;32mif\u001b[0m \u001b[1;32mnot\u001b[0m \u001b[0melement\u001b[0m\u001b[1;33m:\u001b[0m\u001b[1;33m\u001b[0m\u001b[1;33m\u001b[0m\u001b[0m\n\u001b[1;32m---> 81\u001b[1;33m                     \u001b[1;32mraise\u001b[0m \u001b[0mTranslationNotFound\u001b[0m\u001b[1;33m(\u001b[0m\u001b[0mtext\u001b[0m\u001b[1;33m)\u001b[0m\u001b[1;33m\u001b[0m\u001b[1;33m\u001b[0m\u001b[0m\n\u001b[0m\u001b[0;32m     82\u001b[0m             \u001b[1;32mif\u001b[0m \u001b[0melement\u001b[0m\u001b[1;33m.\u001b[0m\u001b[0mget_text\u001b[0m\u001b[1;33m(\u001b[0m\u001b[0mstrip\u001b[0m\u001b[1;33m=\u001b[0m\u001b[1;32mTrue\u001b[0m\u001b[1;33m)\u001b[0m \u001b[1;33m==\u001b[0m \u001b[0mtext\u001b[0m\u001b[1;33m.\u001b[0m\u001b[0mstrip\u001b[0m\u001b[1;33m(\u001b[0m\u001b[1;33m)\u001b[0m\u001b[1;33m:\u001b[0m\u001b[1;33m\u001b[0m\u001b[1;33m\u001b[0m\u001b[0m\n\u001b[0;32m     83\u001b[0m                 \u001b[0mto_translate_alpha\u001b[0m \u001b[1;33m=\u001b[0m \u001b[1;34m\"\"\u001b[0m\u001b[1;33m.\u001b[0m\u001b[0mjoin\u001b[0m\u001b[1;33m(\u001b[0m\u001b[0mch\u001b[0m \u001b[1;32mfor\u001b[0m \u001b[0mch\u001b[0m \u001b[1;32min\u001b[0m \u001b[0mtext\u001b[0m\u001b[1;33m.\u001b[0m\u001b[0mstrip\u001b[0m\u001b[1;33m(\u001b[0m\u001b[1;33m)\u001b[0m \u001b[1;32mif\u001b[0m \u001b[0mch\u001b[0m\u001b[1;33m.\u001b[0m\u001b[0misalnum\u001b[0m\u001b[1;33m(\u001b[0m\u001b[1;33m)\u001b[0m\u001b[1;33m)\u001b[0m\u001b[1;33m\u001b[0m\u001b[1;33m\u001b[0m\u001b[0m\n",
      "\u001b[1;31mTranslationNotFound\u001b[0m: help end thisi checked wife behavioural health ward local hospital begged drive old home california kill wanted hold shot didnt want die scared told refusing actively making life worse got agree treatment treatment facility wasnt nice said theyve taken away allow hour visitng time day personal belongings sensodyne toothpaste needs teeth sensitive types hurt allow news day room arent cooperating allowing phone dad hospice als maintained use hand longer talk texts frequently cant wont let phone hes got long leftim managing depression ptsd whispered help phone hung im freaked actively feel guilty like want self harm --> No translation was found using the current translator. Try another translator?"
     ]
    }
   ],
   "source": [
    "for i in range(int(df['text'].count())):\n",
    "    translated = GoogleTranslator(source='en', target='id').translate(df['text'][i])\n",
    "    df['text'][i] = translated"
   ]
  },
  {
   "cell_type": "code",
   "execution_count": 40,
   "metadata": {
    "collapsed": false,
    "pycharm": {
     "name": "#%%\n"
    }
   },
   "outputs": [
    {
     "data": {
      "text/html": [
       "<div>\n",
       "<style scoped>\n",
       "    .dataframe tbody tr th:only-of-type {\n",
       "        vertical-align: middle;\n",
       "    }\n",
       "\n",
       "    .dataframe tbody tr th {\n",
       "        vertical-align: top;\n",
       "    }\n",
       "\n",
       "    .dataframe thead th {\n",
       "        text-align: right;\n",
       "    }\n",
       "</style>\n",
       "<table border=\"1\" class=\"dataframe\">\n",
       "  <thead>\n",
       "    <tr style=\"text-align: right;\">\n",
       "      <th></th>\n",
       "      <th>level_0</th>\n",
       "      <th>index</th>\n",
       "      <th>Suicide_Detection</th>\n",
       "      <th>text</th>\n",
       "      <th>class</th>\n",
       "    </tr>\n",
       "  </thead>\n",
       "  <tbody>\n",
       "    <tr>\n",
       "      <th>0</th>\n",
       "      <td>0</td>\n",
       "      <td>0</td>\n",
       "      <td>2</td>\n",
       "      <td>mantan istri mengancam bunuh diri baru-baru in...</td>\n",
       "      <td>suicide</td>\n",
       "    </tr>\n",
       "    <tr>\n",
       "      <th>1</th>\n",
       "      <td>1</td>\n",
       "      <td>1</td>\n",
       "      <td>3</td>\n",
       "      <td>aneh tidak terpengaruh pujian yang datang tahu...</td>\n",
       "      <td>non-suicide</td>\n",
       "    </tr>\n",
       "    <tr>\n",
       "      <th>2</th>\n",
       "      <td>2</td>\n",
       "      <td>2</td>\n",
       "      <td>4</td>\n",
       "      <td>akhirnya 2020 mendengar tahun buruk 2020 sumpa...</td>\n",
       "      <td>non-suicide</td>\n",
       "    </tr>\n",
       "    <tr>\n",
       "      <th>3</th>\n",
       "      <td>3</td>\n",
       "      <td>3</td>\n",
       "      <td>8</td>\n",
       "      <td>butuh bantuan tolong bantu aku menangis keras</td>\n",
       "      <td>suicide</td>\n",
       "    </tr>\n",
       "    <tr>\n",
       "      <th>4</th>\n",
       "      <td>4</td>\n",
       "      <td>4</td>\n",
       "      <td>9</td>\n",
       "      <td>saya hilanghalo adam 16 tahun saya berjuang be...</td>\n",
       "      <td>suicide</td>\n",
       "    </tr>\n",
       "    <tr>\n",
       "      <th>...</th>\n",
       "      <td>...</td>\n",
       "      <td>...</td>\n",
       "      <td>...</td>\n",
       "      <td>...</td>\n",
       "      <td>...</td>\n",
       "    </tr>\n",
       "    <tr>\n",
       "      <th>67606</th>\n",
       "      <td>67717</td>\n",
       "      <td>67717</td>\n",
       "      <td>99994</td>\n",
       "      <td>Soft.Do you even just feel a gentle suicidal? ...</td>\n",
       "      <td>suicide</td>\n",
       "    </tr>\n",
       "    <tr>\n",
       "      <th>67607</th>\n",
       "      <td>67718</td>\n",
       "      <td>67718</td>\n",
       "      <td>99996</td>\n",
       "      <td>I pushed my ex to admit that he was suicidal, ...</td>\n",
       "      <td>suicide</td>\n",
       "    </tr>\n",
       "    <tr>\n",
       "      <th>67608</th>\n",
       "      <td>67719</td>\n",
       "      <td>67719</td>\n",
       "      <td>99997</td>\n",
       "      <td>Most painless way to kill myself without affec...</td>\n",
       "      <td>suicide</td>\n",
       "    </tr>\n",
       "    <tr>\n",
       "      <th>67609</th>\n",
       "      <td>67720</td>\n",
       "      <td>67720</td>\n",
       "      <td>99998</td>\n",
       "      <td>Life is meaningless when ur isolatedbecause of...</td>\n",
       "      <td>suicide</td>\n",
       "    </tr>\n",
       "    <tr>\n",
       "      <th>67610</th>\n",
       "      <td>67721</td>\n",
       "      <td>67721</td>\n",
       "      <td>99999</td>\n",
       "      <td>I actually tried it again.But this time I call...</td>\n",
       "      <td>suicide</td>\n",
       "    </tr>\n",
       "  </tbody>\n",
       "</table>\n",
       "<p>67611 rows × 5 columns</p>\n",
       "</div>"
      ],
      "text/plain": [
       "       level_0  index Suicide_Detection  \\\n",
       "0            0      0                 2   \n",
       "1            1      1                 3   \n",
       "2            2      2                 4   \n",
       "3            3      3                 8   \n",
       "4            4      4                 9   \n",
       "...        ...    ...               ...   \n",
       "67606    67717  67717             99994   \n",
       "67607    67718  67718             99996   \n",
       "67608    67719  67719             99997   \n",
       "67609    67720  67720             99998   \n",
       "67610    67721  67721             99999   \n",
       "\n",
       "                                                    text        class  \n",
       "0      mantan istri mengancam bunuh diri baru-baru in...      suicide  \n",
       "1      aneh tidak terpengaruh pujian yang datang tahu...  non-suicide  \n",
       "2      akhirnya 2020 mendengar tahun buruk 2020 sumpa...  non-suicide  \n",
       "3          butuh bantuan tolong bantu aku menangis keras      suicide  \n",
       "4      saya hilanghalo adam 16 tahun saya berjuang be...      suicide  \n",
       "...                                                  ...          ...  \n",
       "67606  Soft.Do you even just feel a gentle suicidal? ...      suicide  \n",
       "67607  I pushed my ex to admit that he was suicidal, ...      suicide  \n",
       "67608  Most painless way to kill myself without affec...      suicide  \n",
       "67609  Life is meaningless when ur isolatedbecause of...      suicide  \n",
       "67610  I actually tried it again.But this time I call...      suicide  \n",
       "\n",
       "[67611 rows x 5 columns]"
      ]
     },
     "execution_count": 40,
     "metadata": {},
     "output_type": "execute_result"
    }
   ],
   "source": [
    "df"
   ]
  },
  {
   "cell_type": "code",
   "execution_count": 41,
   "id": "0a785b19-d290-4740-b0f3-f4c6d3cf329c",
   "metadata": {
    "pycharm": {
     "name": "#%%\n"
    }
   },
   "outputs": [],
   "source": [
    "df.to_excel('translated.xlsx')"
   ]
  },
  {
   "cell_type": "code",
   "execution_count": null,
   "id": "e58396f8-96ab-492f-9161-960d7b8a8d6b",
   "metadata": {
    "pycharm": {
     "name": "#%%\n"
    }
   },
   "outputs": [],
   "source": []
  }
 ],
 "metadata": {
  "interpreter": {
   "hash": "aee8b7b246df8f9039afb4144a1f6fd8d2ca17a180786b69acc140d282b71a49"
  },
  "kernelspec": {
   "display_name": "Python 3.9.7 64-bit",
   "language": "python",
   "name": "python3"
  },
  "language_info": {
   "codemirror_mode": {
    "name": "ipython",
    "version": 3
   },
   "file_extension": ".py",
   "mimetype": "text/x-python",
   "name": "python",
   "nbconvert_exporter": "python",
   "pygments_lexer": "ipython3",
   "version": "3.9.7"
  }
 },
 "nbformat": 4,
 "nbformat_minor": 5
}
